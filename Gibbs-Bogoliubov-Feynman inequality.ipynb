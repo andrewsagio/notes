{
 "cells": [
  {
   "cell_type": "markdown",
   "metadata": {},
   "source": [
    "# Mean-field theory"
   ]
  },
  {
   "cell_type": "markdown",
   "metadata": {},
   "source": [
    "An Ising model with $N$ spins. The i-th spin is $S_i$. $B$ is magnetic field. $J$ is interaction strength between two neighboring spins. Total energy is:"
   ]
  },
  {
   "cell_type": "markdown",
   "metadata": {},
   "source": [
    "$E = \\sum_i B S_i + J \\sum_{ij} S_i S_j$"
   ]
  },
  {
   "cell_type": "markdown",
   "metadata": {},
   "source": [
    "The $j$ in second term sums over nearest neigbhor. Suppose spin $S_i$ feels an average spin $\\bar{S}$ coming from its neighbors, the energy becomes "
   ]
  },
  {
   "cell_type": "markdown",
   "metadata": {},
   "source": [
    "$E_{MF} = \\sum_i B S_i + J \\sum_{i} S_i \\bar{S} = (B+ z J \\bar{S}) \\sum_{i} S_i $"
   ]
  },
  {
   "cell_type": "markdown",
   "metadata": {},
   "source": [
    "The mean field $\\Delta B = z J \\bar{S}$ and $z$ is the number of nearest neighbor."
   ]
  },
  {
   "cell_type": "markdown",
   "metadata": {},
   "source": [
    "## Deriving the mean field"
   ]
  },
  {
   "cell_type": "markdown",
   "metadata": {},
   "source": [
    "### Gibbs-Bogoliubov-Feynman inequality"
   ]
  },
  {
   "cell_type": "markdown",
   "metadata": {},
   "source": [
    "The mean field expression can be derived by showing that it is the field that minimize the free energy. "
   ]
  },
  {
   "cell_type": "markdown",
   "metadata": {},
   "source": [
    "Partition function is"
   ]
  },
  {
   "cell_type": "markdown",
   "metadata": {},
   "source": [
    "$Z = \\sum_{s_1, s_2 ... s_N} \\exp[-\\beta E(s_1, s_2, ..., s_N)]$"
   ]
  },
  {
   "cell_type": "markdown",
   "metadata": {},
   "source": [
    "The sum is over all spin configurations, .i.e. $s_1 =\\pm1, s_2=\\pm1$ etc. \n",
    "\n",
    "Let $E = E_{MF} + \\Delta E$. $\\Delta E$ is the energy difference from the mean field energy $E_{MF}$. The partition function can be rewritten as\n",
    "\n",
    "$Z = \\sum \\exp[-\\beta (E_{MF} + \\Delta E)] = Z_{MF} \\langle \\exp(-\\beta \\Delta E) \\rangle_{MF}$\n",
    "\n",
    "Note the mean-field partition function is $Z_{MF} = \\sum \\exp( - \\beta E_{MF} )$, $\\langle \\rangle_{MF} $ denotes expectation value weighted over mean field probabilities."
   ]
  },
  {
   "cell_type": "markdown",
   "metadata": {},
   "source": [
    "$\\langle\\exp(-\\beta \\Delta E )\\rangle =   \\langle \\exp(-\\beta \\langle \\Delta E \\rangle) \\exp(-\\beta (\\Delta E - \\langle \\Delta E \\rangle  ) \\rangle  \\ge \\exp(-\\beta \\langle \\Delta E \\rangle)$\n",
    "\n"
   ]
  },
  {
   "cell_type": "markdown",
   "metadata": {},
   "source": [
    "Used \n",
    "\n",
    "* $\\exp(x) >= 1 + x$\n",
    "* $ \\exp(\\langle \\Delta E \\rangle) $ is just a number and does not suject to the average.\n",
    "* The second $\\exp()$ became 1 after first order expansion $\\exp(x) >= 1 + x$"
   ]
  },
  {
   "cell_type": "markdown",
   "metadata": {},
   "source": [
    "In other words we have the Gibbs-Bogoliubov-Feynman inequality:\n",
    "\n",
    "$Z \\ge Z_{MF}\\exp(-\\beta \\langle \\Delta E \\rangle_{MF})$\n",
    "\n",
    "That serves as the lower bound of the real partition function"
   ]
  },
  {
   "cell_type": "markdown",
   "metadata": {},
   "source": [
    "### Explicit expression of the lower bound"
   ]
  },
  {
   "cell_type": "markdown",
   "metadata": {},
   "source": [
    "We can further calculate $\\langle \\Delta E \\rangle$ for the Ising model.\n",
    "\n",
    "$\\Delta E = E - E_{MF}$\n",
    "\n",
    "Recall\n",
    "\n",
    "$E = \\sum_i B S_i + J \\sum_{ij} S_i S_j$\n",
    "\n",
    "The mean field energy is\n",
    "\n",
    "$E_{MF} = (B+ z J \\bar{S}) \\sum_{i} S_i $\n",
    "\n",
    "So\n",
    "\n",
    "$\\langle E_{MF} \\rangle = N (B + \\Delta B) \\bar{S} $\n",
    "\n",
    "The factor 1/2 in interaction term accounts for double counting.\n",
    "\n",
    "\n",
    "$\\langle E \\rangle = \\sum_i B \\bar{S_i} + J \\sum_{ij} \\bar{S_i} \\bar{S_j} = N (B \\bar{S} + \\frac{J}{2} z \\bar{S}^2)$\n",
    "\n",
    "Note that we can write $ \\overline{S_i S_j} = \\bar{S_i} \\bar{S_j}$ becasue the mean field energy that's average over is a linear summation of the spins.\n",
    "\n",
    "$\\langle \\Delta E \\rangle = \\langle E \\rangle - \\langle E_{MF} \\rangle = N (\\frac{J}{2} z \\bar{S}^2-\\Delta B \\bar{S}  ) $"
   ]
  },
  {
   "cell_type": "markdown",
   "metadata": {},
   "source": [
    "Note that the mean spin $\\bar{S}$ is a function of the mean field $\\Delta B$ because the field is created by the spin self-consistently."
   ]
  },
  {
   "cell_type": "markdown",
   "metadata": {},
   "source": [
    "Explicitly, The lower bound of partition function is:\n",
    "\n",
    "$Z \\ge Z_{MF}\\exp(-\\beta \\langle \\Delta E \\rangle_{MF}) = Z_{MF}\\exp(-\\beta N ( \\frac{J}{2} z \\bar{S}^2-\\Delta B \\bar{S}  ) )$\n",
    "\n",
    "Note that $Z_{MF}$ and $\\bar{S}$ depend on $\\Delta B$."
   ]
  },
  {
   "cell_type": "markdown",
   "metadata": {},
   "source": [
    "### Variational mean field"
   ]
  },
  {
   "cell_type": "markdown",
   "metadata": {},
   "source": [
    "Holtmonz free energy is given by\n",
    "\n",
    "$H = -k_B T \\ln Z$\n",
    "\n",
    "We can find the mean field $\\Delta B$ by minimziing the free energy $H$. Instead of working with $H$ directly, we minimize the upper bound (lower bound of partition function $Z$):\n",
    "\n",
    "$H_{UB} = -k_B T \\ln [ Z_{MF}\\exp(-\\beta N (\\frac{J}{2} z \\bar{S}^2  - \\Delta B \\bar{S} ) ) ]$\n",
    "\n",
    "$\\quad\\quad = -k_B T \\ln Z_{MF} + N \\frac{J}{2} z \\bar{S}^2 -  N B \\bar{S}   $\n",
    "\n",
    "Minimizing the free energy upper bound w.r.t. the mean field $\\Delta B$:\n",
    "\n",
    "$ \\partial H_{UB}/\\partial \\Delta B = 0 $"
   ]
  },
  {
   "cell_type": "markdown",
   "metadata": {},
   "source": [
    "Using \n",
    "\n",
    "$ \\partial Z_{MF}/\\partial \\Delta B = - N \\beta \\bar{S} Z_{MF}$"
   ]
  },
  {
   "cell_type": "markdown",
   "metadata": {},
   "source": [
    "It follows:\n",
    "\n",
    "$ \\partial H_{UB}/\\partial \\Delta B = 0 $\n",
    "\n",
    "$ \\partial \\bar{S}/\\partial \\Delta B (\\Delta B - J z \\bar{S}) = 0 $\n",
    "\n",
    "Therefore the mean field is \n",
    "\n",
    "$\\Delta B = J z \\bar{S}$,  \n",
    "\n",
    "the same result as using the mean field argument in the first section. "
   ]
  }
 ],
 "metadata": {
  "kernelspec": {
   "display_name": "Python 3",
   "language": "python",
   "name": "python3"
  },
  "language_info": {
   "codemirror_mode": {
    "name": "ipython",
    "version": 3
   },
   "file_extension": ".py",
   "mimetype": "text/x-python",
   "name": "python",
   "nbconvert_exporter": "python",
   "pygments_lexer": "ipython3",
   "version": "3.7.4"
  }
 },
 "nbformat": 4,
 "nbformat_minor": 2
}
